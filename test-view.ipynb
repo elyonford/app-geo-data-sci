{
 "cells": [
  {
   "cell_type": "code",
   "execution_count": 1,
   "metadata": {},
   "outputs": [],
   "source": [
    "# Attempting to build something to look at for B-roll\n",
    "# downloaded from https://atlas.eia.gov/search\n",
    "import geopandas as gpd\n",
    "import matplotlib.pyplot as plt"
   ]
  },
  {
   "cell_type": "code",
   "execution_count": 2,
   "metadata": {},
   "outputs": [],
   "source": [
    "### Setting up the data_paths\n",
    "data_path = 'energy-data\\\\'\n",
    "bkgnd_path = 'Data-pt1\\\\'"
   ]
  },
  {
   "cell_type": "code",
   "execution_count": 3,
   "metadata": {},
   "outputs": [
    {
     "name": "stderr",
     "output_type": "stream",
     "text": [
      "C:\\Users\\erics\\AppData\\Local\\Temp\\ipykernel_152088\\3774505652.py:2: FutureWarning: The geopandas.dataset module is deprecated and will be removed in GeoPandas 1.0. You can get the original 'naturalearth_lowres' data from https://www.naturalearthdata.com/downloads/110m-cultural-vectors/.\n",
      "  world = gpd.read_file(gpd.datasets.get_path(\"naturalearth_lowres\"))\n"
     ]
    }
   ],
   "source": [
    "### Set up background info\n",
    "world = gpd.read_file(gpd.datasets.get_path(\"naturalearth_lowres\"))\n",
    "places = gpd.read_file(bkgnd_path + 'ne_110m_populated_places\\\\ne_110m_populated_places.shp')\n",
    "capitals = places[places[\"FEATURECLA\"]==\"Admin-0 capital\"]\n",
    "grat = gpd.read_file(bkgnd_path + 'Graticule\\\\ne_110m_graticules_10.shp')"
   ]
  },
  {
   "cell_type": "code",
   "execution_count": 4,
   "metadata": {},
   "outputs": [],
   "source": [
    "### Set up foreground info\n",
    "plants = gpd.read_file(data_path + 'Power_Plants\\\\Power_Plants.shp')\n",
    "ersts = gpd.read_file(data_path + 'Electric_Retail_Service_Territories\\\\Electric_Retail_Service_Territories.shp')"
   ]
  },
  {
   "cell_type": "code",
   "execution_count": null,
   "metadata": {},
   "outputs": [],
   "source": [
    "# fig, ax = plt.subplots(figsize=(12,10))\n",
    "# world.plot(ax=ax, color=\"lightgray\")\n",
    "# capitals.plot(ax=ax, color=\"black\", markersize=10, marker=\"o\")\n",
    "# grat.plot(ax=ax, color=\"darkgray\", linewidth=0.5)\n",
    "# ax.set(xlabel=\"Longitude(Degrees)\",\n",
    "#        ylabel=\"Latitude(Degrees)\",\n",
    "#        title=\"WGS 1984 Datum\")\n",
    "# plt.show()"
   ]
  },
  {
   "cell_type": "code",
   "execution_count": 16,
   "metadata": {},
   "outputs": [],
   "source": [
    "ersts_mokan = ersts[ersts[\"STATE\"].isin([\"MO\",\"KS\"])]\n",
    "plants_mokan = plants[plants[\"State\"].isin([\"Missouri\",\"Kansas\"])]"
   ]
  },
  {
   "cell_type": "code",
   "execution_count": null,
   "metadata": {},
   "outputs": [],
   "source": [
    "fig, ax = plt.subplots(figsize=(12,10))\n",
    "world.plot(ax=ax, color=\"lightgray\")\n",
    "plants_mokan.plot(ax=ax, color=\"black\", markersize=10, marker=\"o\")\n",
    "ersts_mokan.plot(ax=ax, color=\"blue\")\n",
    "grat.plot(ax=ax, color=\"darkgray\", linewidth=0.5)\n",
    "\n",
    "ax.set(xlabel=\"Longitude(Degrees)\",\n",
    "       ylabel=\"Latitude(Degrees)\",\n",
    "       title=\"Power Plants and Electric Territories\")\n",
    "plt.show()"
   ]
  }
 ],
 "metadata": {
  "kernelspec": {
   "display_name": ".geods",
   "language": "python",
   "name": "python3"
  },
  "language_info": {
   "codemirror_mode": {
    "name": "ipython",
    "version": 3
   },
   "file_extension": ".py",
   "mimetype": "text/x-python",
   "name": "python",
   "nbconvert_exporter": "python",
   "pygments_lexer": "ipython3",
   "version": "3.10.11"
  }
 },
 "nbformat": 4,
 "nbformat_minor": 2
}
